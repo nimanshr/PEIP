{
 "cells": [
  {
   "cell_type": "markdown",
   "id": "fc924bf0-26a5-4549-9fee-e74c9fe5ea3d",
   "metadata": {
    "tags": []
   },
   "source": [
    "# Example 3.1\n",
    "\n",
    "From Parameter Estimation and Inverse Problems, 3rd edition, 2018    \n",
    "by R. Aster, B. Borchers, C. Thurber\n",
    "\n",
    "## Implemented in Python by:\n",
    "* Nima Nooshiri [@nimanzik](https://github.com/nimanzik)\n",
    "\n",
    "---"
   ]
  },
  {
   "cell_type": "code",
   "execution_count": 1,
   "id": "3433c816-d8c4-4983-8819-dd603416e2be",
   "metadata": {},
   "outputs": [],
   "source": [
    "%reset -f"
   ]
  },
  {
   "cell_type": "markdown",
   "id": "7972b534-d3b3-426b-a183-ae4f2e4d76c5",
   "metadata": {},
   "source": [
    "## Imports"
   ]
  },
  {
   "cell_type": "code",
   "execution_count": 2,
   "id": "f4fd2b4b-c28a-4769-b640-25d80cce311a",
   "metadata": {},
   "outputs": [],
   "source": [
    "import matplotlib.pyplot as plt\n",
    "import numpy as np\n",
    "from numpy import linalg as nla\n",
    "\n",
    "from peiplib.plot import get_cbar_axes"
   ]
  },
  {
   "cell_type": "code",
   "execution_count": 3,
   "id": "488b4754-f78d-44d7-8e60-a92f8007549d",
   "metadata": {},
   "outputs": [],
   "source": [
    "plt.style.use('ggplot')\n",
    "plt.style.use('./data/peiplib.mplstyle')"
   ]
  },
  {
   "cell_type": "markdown",
   "id": "96aebcd0-5f23-4af5-bbe6-f478b5a59fe7",
   "metadata": {},
   "source": [
    "## System matrix $\\textrm{G}$ for the ray path models"
   ]
  },
  {
   "cell_type": "code",
   "execution_count": 4,
   "id": "9e4b75c6-9615-411e-8436-bb79f1e91e6f",
   "metadata": {},
   "outputs": [],
   "source": [
    "# Dimension of matrix G\n",
    "n = 9   # no. of parameters of slowness model\n",
    "m = 8   # no. of travel-time observations\n",
    "\n",
    "# Construct the system matrix\n",
    "G = np.zeros((m, n), dtype=np.float64)\n",
    "\n",
    "for i in range(3):\n",
    "    G[i, [i, i+3, i+6]] = 1.0\n",
    "\n",
    "for i in range(3, 6):\n",
    "    j1 = (i - 3) * 3\n",
    "    j2 = j1 + 3\n",
    "    G[i, j1:j2] = 1.0\n",
    "\n",
    "G[6, [0, 4, 8]] = np.sqrt(2)\n",
    "G[7, -1] = np.sqrt(2)"
   ]
  },
  {
   "cell_type": "markdown",
   "id": "b49d67f5-d9ad-46d6-bf85-2260efafa038",
   "metadata": {},
   "source": [
    "### Singular values for the system matrix $\\textbf{G}$"
   ]
  },
  {
   "cell_type": "code",
   "execution_count": 5,
   "id": "e1ad6cff-9b1e-4618-8db8-a7f1c7e5910b",
   "metadata": {},
   "outputs": [
    {
     "name": "stdout",
     "output_type": "stream",
     "text": [
      "Singular values\n",
      "diag(S) =\n",
      "[[3.17982071e+00]\n",
      " [2.00000000e+00]\n",
      " [1.73205081e+00]\n",
      " [1.73205081e+00]\n",
      " [1.73205081e+00]\n",
      " [1.60697051e+00]\n",
      " [5.53521445e-01]\n",
      " [1.11481381e-16]]\n",
      "\n"
     ]
    }
   ],
   "source": [
    "U, S, VT = nla.svd(G, compute_uv=True, full_matrices=True)\n",
    "V = np.transpose(VT)\n",
    "\n",
    "print('Singular values', 'diag(S) =', S[:, np.newaxis], '', sep='\\n')"
   ]
  },
  {
   "cell_type": "markdown",
   "id": "5cfbe37d-c9ed-419c-85f6-08e5f036d871",
   "metadata": {},
   "source": [
    "## Model null space, $N(\\textbf{G})$"
   ]
  },
  {
   "cell_type": "code",
   "execution_count": 6,
   "id": "0aa30b14-3f31-4d77-98b3-79d2ce57665d",
   "metadata": {},
   "outputs": [
    {
     "name": "stdout",
     "output_type": "stream",
     "text": [
      "System rank: p=7 \n",
      "\n",
      "Model null space vectors\n",
      "V0 =\n",
      "[[-3.84196754e-01  1.38056225e-01]\n",
      " [-1.38056225e-01 -3.84196754e-01]\n",
      " [ 5.22252978e-01  2.46140529e-01]\n",
      " [ 1.38056225e-01  3.84196754e-01]\n",
      " [ 3.84196754e-01 -1.38056225e-01]\n",
      " [-5.22252978e-01 -2.46140529e-01]\n",
      " [ 2.46140529e-01 -5.22252978e-01]\n",
      " [-2.46140529e-01  5.22252978e-01]\n",
      " [ 4.02455846e-16  5.55111512e-17]]\n",
      "\n",
      "Model null-space vectors reshaped into matrices\n",
      "m01 =\n",
      "[[-3.84196754e-01 -1.38056225e-01  5.22252978e-01]\n",
      " [ 1.38056225e-01  3.84196754e-01 -5.22252978e-01]\n",
      " [ 2.46140529e-01 -2.46140529e-01  4.02455846e-16]]\n",
      "\n",
      "m02 =\n",
      "[[ 1.38056225e-01 -3.84196754e-01  2.46140529e-01]\n",
      " [ 3.84196754e-01 -1.38056225e-01 -2.46140529e-01]\n",
      " [-5.22252978e-01  5.22252978e-01  5.55111512e-17]]\n",
      "\n"
     ]
    }
   ],
   "source": [
    "# Find and display system rank\n",
    "p = nla.matrix_rank(G)\n",
    "print('System rank:', f'p={p}', '\\n')\n",
    "\n",
    "# Display model null space vectors\n",
    "V0 = V[:, p:n]\n",
    "print('Model null space vectors', 'V0 =', V0, '', sep='\\n')\n",
    "\n",
    "# Display null space vectors reshaped to match tomography example geometry\n",
    "m01 = np.reshape(V[:, p], (3, 3))\n",
    "m02 = np.reshape(V[:, p+1], (3, 3))\n",
    "\n",
    "print(\n",
    "    'Model null-space vectors reshaped into matrices',\n",
    "    'm01 =', m01, '', 'm02 =', m02, '', sep='\\n')"
   ]
  },
  {
   "cell_type": "markdown",
   "id": "5acbbb6e-7ed2-4f5f-9dc6-dad2d79fff50",
   "metadata": {},
   "source": [
    "### Display images of model null-space vectors"
   ]
  },
  {
   "cell_type": "code",
   "execution_count": 7,
   "id": "ddd9fde9-b762-4444-bf4f-c92c4dc3f395",
   "metadata": {},
   "outputs": [],
   "source": [
    "def helper_disp_image(\n",
    "        data, fig, cmap='bone', vmin=None, vmax=None, cbar_ticks=None,\n",
    "        xticks=None, yticks=None):\n",
    "    \"\"\"\n",
    "    A helper function to display data as images in the Example 3.1\n",
    "    \"\"\"\n",
    "    ax = fig.add_subplot(111)\n",
    "    cimg = ax.imshow(data, cmap=cmap, vmin=vmin, vmax=vmax)\n",
    "    cax = get_cbar_axes(ax)\n",
    "    cbar = plt.colorbar(cimg, cax=cax, ticks=cbar_ticks)\n",
    "    if xticks is None:\n",
    "        xticks = ax.get_xticks()\n",
    "    \n",
    "    if yticks is None:\n",
    "        yticks = ax.get_yticks()\n",
    "        \n",
    "    ax.set(xlabel='j', ylabel='i', xticks=xticks, yticks=yticks)\n",
    "    ax.grid(False)"
   ]
  },
  {
   "cell_type": "code",
   "execution_count": 8,
   "id": "a1ae4c00-80b3-4e71-968c-cf04866d4507",
   "metadata": {},
   "outputs": [
    {
     "data": {
      "image/png": "[encoded data removed]",
      "text/plain": [
       "<Figure size 432x432 with 2 Axes>"
      ]
     },
     "metadata": {},
     "output_type": "display_data"
    },
    {
     "data": {
      "image/png": "[encoded data removed]",
      "text/plain": [
       "<Figure size 432x432 with 2 Axes>"
      ]
     },
     "metadata": {},
     "output_type": "display_data"
    }
   ],
   "source": [
    "# Display image of null space model V.,8\n",
    "fig1 = plt.figure()\n",
    "helper_disp_image(\n",
    "    m01, fig1, cbar_ticks=[-0.5, 0.0, 0.5], xticks=range(3), yticks=range(3))\n",
    "\n",
    "# Display image of null space model V.,9\n",
    "fig2 = plt.figure()\n",
    "helper_disp_image(\n",
    "    m02, fig2, cbar_ticks=[-0.5, 0.0, 0.5], xticks=range(3), yticks=range(3))"
   ]
  },
  {
   "cell_type": "markdown",
   "id": "bf27f8a9-935a-4835-9f0f-0d8977bc7399",
   "metadata": {},
   "source": [
    "## Data null space, $N(\\textbf{G}^T)$"
   ]
  },
  {
   "cell_type": "code",
   "execution_count": 9,
   "id": "9cd6e96a-1f23-47b6-ab00-8b93556013a4",
   "metadata": {},
   "outputs": [
    {
     "name": "stdout",
     "output_type": "stream",
     "text": [
      "Data null space vector\n",
      "U0 =\n",
      "[[-4.0824829e-01]\n",
      " [-4.0824829e-01]\n",
      " [-4.0824829e-01]\n",
      " [ 4.0824829e-01]\n",
      " [ 4.0824829e-01]\n",
      " [ 4.0824829e-01]\n",
      " [ 0.0000000e+00]\n",
      " [ 4.4408921e-16]]\n",
      "\n"
     ]
    }
   ],
   "source": [
    "# Display data null space vectors\n",
    "U0 = U[:, p:]\n",
    "print('Data null space vector', 'U0 =', U0, '', sep='\\n')"
   ]
  },
  {
   "cell_type": "markdown",
   "id": "022ec1d7-a032-40c3-8683-f5d79af42310",
   "metadata": {},
   "source": [
    "## Model resolution matrix\n",
    "### Display full model resolution matrix, $\\textbf{R}_m$"
   ]
  },
  {
   "cell_type": "code",
   "execution_count": 10,
   "id": "3f9ad63f-3149-4a94-bdae-abc3c3979687",
   "metadata": {},
   "outputs": [
    {
     "data": {
      "image/png": "[encoded data removed]",
      "text/plain": [
       "<Figure size 432x432 with 2 Axes>"
      ]
     },
     "metadata": {},
     "output_type": "display_data"
    }
   ],
   "source": [
    "# Find model resolution matrix, Rm\n",
    "Vp = V[:, 0:p-1]\n",
    "Rm = Vp @ Vp.T\n",
    "\n",
    "# Display full Rm\n",
    "fig = plt.figure()\n",
    "helper_disp_image(\n",
    "    Rm, fig, vmin=0.0, vmax=1.0, cbar_ticks=np.arange(0.0, 1.2, 0.2),\n",
    "    xticks=range(9), yticks=range(9))"
   ]
  },
  {
   "cell_type": "markdown",
   "id": "b60a2dd3-2391-4dbf-b66f-19fbb25b711b",
   "metadata": {},
   "source": [
    "### Display diagonal elements of the model resolution matrix, $\\textrm{diag}(\\textbf{R}_m)$"
   ]
  },
  {
   "cell_type": "code",
   "execution_count": 11,
   "id": "7739065a-2fa3-4186-8fda-ca31b12e2f6e",
   "metadata": {},
   "outputs": [
    {
     "name": "stdout",
     "output_type": "stream",
     "text": [
      "Diagonal elements of model resolution matrix\n",
      "Rm_diag=\n",
      "[[0.78594333 0.54453228 0.61031577]\n",
      " [0.54453228 0.78594333 0.61031577]\n",
      " [0.61031577 0.61031577 0.89778571]]\n",
      "\n"
     ]
    },
    {
     "data": {
      "image/png": "[encoded data removed]",
      "text/plain": [
       "<Figure size 432x432 with 2 Axes>"
      ]
     },
     "metadata": {},
     "output_type": "display_data"
    }
   ],
   "source": [
    "# Reshaped diagonal elements of the model resolution matrix\n",
    "Rm_diag = np.diagonal(Rm).reshape(3, 3)\n",
    "\n",
    "print(\n",
    "    'Diagonal elements of model resolution matrix',\n",
    "    'Rm_diag=', Rm_diag, '', sep='\\n')\n",
    "\n",
    "# Display Rm_diag\n",
    "fig = plt.figure()\n",
    "helper_disp_image(\n",
    "    Rm_diag, fig, vmin=0.0, vmax=1.0, cbar_ticks=np.arange(0.0, 1.2, 0.2),\n",
    "    xticks=range(3), yticks=range(3))"
   ]
  },
  {
   "cell_type": "markdown",
   "id": "cafa9a3e-54be-4d24-b081-7c769e97d72c",
   "metadata": {},
   "source": [
    "## Spike resolution test"
   ]
  },
  {
   "cell_type": "code",
   "execution_count": 12,
   "id": "496b4816-a0d3-4501-b453-457c20214cc0",
   "metadata": {},
   "outputs": [
    {
     "name": "stdout",
     "output_type": "stream",
     "text": [
      "Model spike and predicted data\n",
      "mtest =\n",
      "[[0.]\n",
      " [0.]\n",
      " [0.]\n",
      " [0.]\n",
      " [1.]\n",
      " [0.]\n",
      " [0.]\n",
      " [0.]\n",
      " [0.]]\n",
      "\n",
      "dtest =\n",
      "[[0.        ]\n",
      " [1.        ]\n",
      " [0.        ]\n",
      " [0.        ]\n",
      " [1.        ]\n",
      " [0.        ]\n",
      " [1.41421356]\n",
      " [0.        ]]\n",
      "\n",
      "Recovered model from the spike test\n",
      "mdagger =\n",
      "[[ 1.66666667e-01]\n",
      " [-1.11022302e-16]\n",
      " [-1.66666667e-01]\n",
      " [ 1.66533454e-16]\n",
      " [ 8.33333333e-01]\n",
      " [ 1.66666667e-01]\n",
      " [-1.66666667e-01]\n",
      " [ 1.66666667e-01]\n",
      " [ 1.19729462e-16]]\n",
      "\n"
     ]
    }
   ],
   "source": [
    "# Construct spike model\n",
    "mtest = np.zeros((n, 1))\n",
    "mtest[4, 0] = 1.0\n",
    "\n",
    "# Get noise free data for the spike model (forward problem)\n",
    "dtest = G @ mtest\n",
    "\n",
    "# Spike model and noise-free data\n",
    "print(\n",
    "    'Model spike and predicted data',\n",
    "    'mtest =', mtest, '', 'dtest =', dtest, '', sep='\\n')\n",
    "\n",
    "# Recovered model from spike test\n",
    "Gdagger = nla.pinv(G)\n",
    "mdagger = Gdagger @ dtest\n",
    "\n",
    "print(\n",
    "    'Recovered model from the spike test',\n",
    "    'mdagger =', mdagger, '', sep='\\n')"
   ]
  },
  {
   "cell_type": "markdown",
   "id": "512d0bf7-5041-4a57-8622-8e376de59e58",
   "metadata": {},
   "source": [
    "### Display reshaped noise free spike model"
   ]
  },
  {
   "cell_type": "code",
   "execution_count": 13,
   "id": "d3917192-49ba-44a4-a080-7d71657bf082",
   "metadata": {},
   "outputs": [
    {
     "data": {
      "image/png": "[encoded data removed]",
      "text/plain": [
       "<Figure size 432x432 with 2 Axes>"
      ]
     },
     "metadata": {},
     "output_type": "display_data"
    }
   ],
   "source": [
    "fig = plt.figure()\n",
    "helper_disp_image(\n",
    "    mtest.reshape(3, 3), fig, vmin=0.0, vmax=1.0,\n",
    "    cbar_ticks=np.arange(0.0, 1.2, 0.2), xticks=range(3), yticks=range(3))"
   ]
  },
  {
   "cell_type": "markdown",
   "id": "76c00b33-8fab-433e-b42f-cef0128dc372",
   "metadata": {},
   "source": [
    "### Display reshaped recovered spike model"
   ]
  },
  {
   "cell_type": "code",
   "execution_count": 14,
   "id": "0add7152-cfdf-4afd-b11f-281a87253b75",
   "metadata": {},
   "outputs": [
    {
     "data": {
      "image/png": "[encoded data removed]",
      "text/plain": [
       "<Figure size 432x432 with 2 Axes>"
      ]
     },
     "metadata": {},
     "output_type": "display_data"
    }
   ],
   "source": [
    "fig = plt.figure()\n",
    "helper_disp_image(\n",
    "    mdagger.reshape(3, 3), fig, vmin=0.0, vmax=1.0,\n",
    "    cbar_ticks=np.arange(0.0, 1.2, 0.2), xticks=range(3), yticks=range(3))"
   ]
  }
 ],
 "metadata": {
  "kernelspec": {
   "display_name": "Python 3 (ipykernel)",
   "language": "python",
   "name": "python3"
  },
  "language_info": {
   "codemirror_mode": {
    "name": "ipython",
    "version": 3
   },
   "file_extension": ".py",
   "mimetype": "text/x-python",
   "name": "python",
   "nbconvert_exporter": "python",
   "pygments_lexer": "ipython3",
   "version": "3.8.12"
  }
 },
 "nbformat": 4,
 "nbformat_minor": 5
}
