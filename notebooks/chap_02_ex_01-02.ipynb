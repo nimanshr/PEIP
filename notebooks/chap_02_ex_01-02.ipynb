{
 "cells": [
  {
   "cell_type": "markdown",
   "id": "883c03ba-f291-4f63-b35f-5b4516b57bd9",
   "metadata": {
    "tags": []
   },
   "source": [
    "# Example 2.1-2\n",
    "From Parameter Estimation and Inverse Problems, 2nd edition, 2011   \n",
    "by R. Aster, B. Borchers, C. Thurber\n",
    "\n",
    "### Author:\n",
    "* Nima Nooshiri [@nimanzik](https://github.com/nimanzik)"
   ]
  },
  {
   "cell_type": "code",
   "execution_count": 1,
   "id": "949dde75-e3ee-4ad9-90b9-299c920e0018",
   "metadata": {},
   "outputs": [],
   "source": [
    "%reset -f"
   ]
  },
  {
   "cell_type": "markdown",
   "id": "6754e816-2447-422f-8b84-46779df9b5d0",
   "metadata": {},
   "source": [
    "## Imports"
   ]
  },
  {
   "cell_type": "code",
   "execution_count": 2,
   "id": "77edba45-ec62-4eba-82a2-0ecf126477f6",
   "metadata": {},
   "outputs": [],
   "source": [
    "import matplotlib.pyplot as plt\n",
    "import numpy as np\n",
    "from numpy import linalg as nla\n",
    "from scipy import stats\n",
    "from scipy.io import loadmat"
   ]
  },
  {
   "cell_type": "code",
   "execution_count": 3,
   "id": "73195804-3675-418f-ac1a-d18d5cb75954",
   "metadata": {},
   "outputs": [],
   "source": [
    "plt.style.use('ggplot')\n",
    "plt.style.use('./data/peiplib.mplstyle')"
   ]
  },
  {
   "cell_type": "markdown",
   "id": "30b6a505-9977-491a-90fa-262e4842f870",
   "metadata": {},
   "source": [
    "# Example 2.1\n",
    "\n",
    "We consider linear regression of ballistic observations to a quadratic model, where the regression model is:\n",
    "\n",
    "$y(t) = m_0 + m_1 t - (1/2) m_2 t^{2}$\n",
    "\n",
    "## Synthetic Data Set\n",
    "\n",
    "Consider a synthetic data set with $m = 10$ observations and independent normal data errors ($\\sigma = 8$ m), generated\n",
    "using $\\textbf{m}_{\\textrm{true}} = [10~\\textrm{m}, 100~\\textrm{m/s}, 9.8~\\textrm{m/s}^{2}]^T$:"
   ]
  },
  {
   "cell_type": "code",
   "execution_count": 4,
   "id": "67eb13b3-ff7e-4de7-9d85-174f076b2c9b",
   "metadata": {},
   "outputs": [
    {
     "data": {
      "text/plain": [
       "(array([ 1.,  2.,  3.,  4.,  5.,  6.,  7.,  8.,  9., 10.]),\n",
       " array([109.3827, 187.5385, 267.5319, 331.8753, 386.0535, 428.4271,\n",
       "        452.1644, 498.1461, 512.3499, 512.9753]),\n",
       " array([8., 8., 8., 8., 8., 8., 8., 8., 8., 8.]))"
      ]
     },
     "execution_count": 4,
     "metadata": {},
     "output_type": "execute_result"
    }
   ],
   "source": [
    "# True model parameters\n",
    "m_true = np.array([10, 100, 9.8])\n",
    "\n",
    "# Load precomputed data\n",
    "matdata = loadmat('./data/data1.mat', squeeze_me=True)\n",
    "t, y, sigma = matdata['data1'].T\n",
    "n_obs = t.size\n",
    "t, y, sigma"
   ]
  },
  {
   "cell_type": "markdown",
   "id": "b6292e1e-3dcd-4136-ad83-402c0e30aede",
   "metadata": {},
   "source": [
    "## Weighted Least-Squares Solutions\n",
    "\n",
    "To obtain the least squares solution, we construct the $\\textbf{G}$ matrix. The _i-th_ row of $\\textbf{G}$ is given by:\n",
    "\n",
    "$G_{i,.} = [1, t_i, -(1/2)t_{i}^{2}]$\n",
    "\n",
    "so that"
   ]
  },
  {
   "cell_type": "code",
   "execution_count": 5,
   "id": "e5de8e59-531f-463d-9110-439cd55c910f",
   "metadata": {},
   "outputs": [
    {
     "data": {
      "text/plain": [
       "array([[  1. ,   1. ,  -0.5],\n",
       "       [  1. ,   2. ,  -2. ],\n",
       "       [  1. ,   3. ,  -4.5],\n",
       "       [  1. ,   4. ,  -8. ],\n",
       "       [  1. ,   5. , -12.5],\n",
       "       [  1. ,   6. , -18. ],\n",
       "       [  1. ,   7. , -24.5],\n",
       "       [  1. ,   8. , -32. ],\n",
       "       [  1. ,   9. , -40.5],\n",
       "       [  1. ,  10. , -50. ]])"
      ]
     },
     "execution_count": 5,
     "metadata": {},
     "output_type": "execute_result"
    }
   ],
   "source": [
    "G = np.array([np.ones_like(t), t, -0.5 * t**2]).T\n",
    "G"
   ]
  },
  {
   "cell_type": "markdown",
   "id": "d5f8c550-d953-4e00-bfae-6f6b100f3333",
   "metadata": {},
   "source": [
    "To incorporate the data standard deviations into the weighted least squares solution, we scale the system of equations to obtain a weighted system of equations."
   ]
  },
  {
   "cell_type": "code",
   "execution_count": 6,
   "id": "e3afb739-f160-4942-b1bf-73e5ae91092e",
   "metadata": {},
   "outputs": [],
   "source": [
    "W = np.identity(n_obs) / sigma\n",
    "Gw = W @ G\n",
    "yw = W @ y"
   ]
  },
  {
   "cell_type": "markdown",
   "id": "f3eedbe2-a082-4790-be0f-4059a1002833",
   "metadata": {},
   "source": [
    "We solve for the parameters using the weighted normal equations, to obtain a model estimate:"
   ]
  },
  {
   "cell_type": "code",
   "execution_count": 7,
   "id": "dddc82e2-44e8-4d88-99f8-39dce9d15996",
   "metadata": {},
   "outputs": [
    {
     "data": {
      "text/plain": [
       "array([16.41740833, 96.96765856,  9.40753561])"
      ]
     },
     "execution_count": 7,
     "metadata": {},
     "output_type": "execute_result"
    }
   ],
   "source": [
    "m_est = nla.inv(Gw.T @ Gw) @ Gw.T @ yw\n",
    "m_est"
   ]
  },
  {
   "cell_type": "markdown",
   "id": "45bea9e8-f3c1-40b8-a875-2c839f9359aa",
   "metadata": {},
   "source": [
    "Figure below shows the observed data and the fitted curve:"
   ]
  },
  {
   "cell_type": "code",
   "execution_count": 8,
   "id": "9dc1cc15-6395-41a0-96d9-5d6d94bd7171",
   "metadata": {},
   "outputs": [
    {
     "data": {
      "image/png": "[encoded data removed]",
      "text/plain": [
       "<Figure size 576x576 with 1 Axes>"
      ]
     },
     "metadata": {},
     "output_type": "display_data"
    }
   ],
   "source": [
    "x = np.arange(t.min() - 1, t.max() + 1, step=0.05)\n",
    "y_est = m_est[0] + (m_est[1] * x) - (0.5 * m_est[2] * x**2)\n",
    "\n",
    "fig, ax = plt.subplots(figsize=(8, 8))\n",
    "ax.plot(x, y_est)\n",
    "ax.errorbar(t, y, yerr=sigma, fmt='o')\n",
    "ax.set(xlabel='Time [s]', ylabel='Elevation [m]');"
   ]
  },
  {
   "cell_type": "markdown",
   "id": "7b789876-744f-48fa-9db0-9c919ff3854b",
   "metadata": {},
   "source": [
    "The model covariance matrix associated with weighted least-squares solutions `m_est` is:"
   ]
  },
  {
   "cell_type": "code",
   "execution_count": 9,
   "id": "7f0644dc-109f-4cbf-8f0b-0a59e5fcaba3",
   "metadata": {},
   "outputs": [
    {
     "name": "stdout",
     "output_type": "stream",
     "text": [
      "Covariance matrix for fitted parameters:\n"
     ]
    },
    {
     "data": {
      "text/plain": [
       "array([[ 88.53333333, -33.6       ,  -5.33333333],\n",
       "       [-33.6       ,  15.44242424,   2.66666667],\n",
       "       [ -5.33333333,   2.66666667,   0.48484848]])"
      ]
     },
     "execution_count": 9,
     "metadata": {},
     "output_type": "execute_result"
    }
   ],
   "source": [
    "covmat = nla.inv(Gw.T @ Gw)\n",
    "\n",
    "print('Covariance matrix for fitted parameters:')\n",
    "covmat"
   ]
  },
  {
   "cell_type": "markdown",
   "id": "4d34821f-e5b8-4a7f-b83d-1b667414d28b",
   "metadata": {},
   "source": [
    "For this example, parameter estimates with 95% confidence intervals (1.96-sigma) are:"
   ]
  },
  {
   "cell_type": "code",
   "execution_count": 10,
   "id": "0c66ed3e-bb77-413f-b211-138d54caada9",
   "metadata": {},
   "outputs": [
    {
     "name": "stdout",
     "output_type": "stream",
     "text": [
      "95% parameter confidence intervals:\n",
      "  16.42 +- 18.44\n",
      "  96.97 +-  7.70\n",
      "   9.41 +-  1.36\n"
     ]
    }
   ],
   "source": [
    "z = stats.norm.ppf(0.975)   # z = 1.96\n",
    "ci = z * np.sqrt(np.diag(covmat))\n",
    "\n",
    "print(\n",
    "    f'95% parameter confidence intervals:',\n",
    "    f'  {m_est[0]:5.2f} +- {ci[0]:5.2f}',\n",
    "    f'  {m_est[1]:5.2f} +- {ci[1]:5.2f}',\n",
    "    f'  {m_est[2]:5.2f} +- {ci[2]:5.2f}',\n",
    "    sep='\\n')"
   ]
  },
  {
   "cell_type": "markdown",
   "id": "96c6a6f1-4938-4a09-9548-0f539a6ecc29",
   "metadata": {},
   "source": [
    "Because there are 3 parameters to estimate, we have `n_obs - 3` degrees of freedom.   \n",
    "The $\\chi^{2}$ value for this regression is approximately 4.2:"
   ]
  },
  {
   "cell_type": "code",
   "execution_count": 11,
   "id": "fbdbf6ef-10df-4653-9524-388ba2fd75e4",
   "metadata": {},
   "outputs": [
    {
     "name": "stdout",
     "output_type": "stream",
     "text": [
      "Chi-square misfit for 7 degrees of freedom: 4.20\n"
     ]
    }
   ],
   "source": [
    "residuals = y - (G @ m_est)\n",
    "chi_sq = np.sum(residuals**2 / sigma**2)\n",
    "dof = G.shape[0] - G.shape[1]\n",
    "\n",
    "print(f'Chi-square misfit for {dof} degrees of freedom: {chi_sq:.2f}')"
   ]
  },
  {
   "cell_type": "markdown",
   "id": "7b9323bf-48ef-48a3-a96f-78bdf490eb8d",
   "metadata": {},
   "source": [
    "Now, we find the $p$-value for this test:"
   ]
  },
  {
   "cell_type": "code",
   "execution_count": 12,
   "id": "6a564dae-b8f0-4bf8-a81f-b5764d0ac026",
   "metadata": {},
   "outputs": [
    {
     "name": "stdout",
     "output_type": "stream",
     "text": [
      "chi-square p-value: 0.76\n"
     ]
    }
   ],
   "source": [
    "pval = 1.0 - stats.chi2.cdf(chi_sq, dof)\n",
    "\n",
    "print(f'chi-square p-value: {pval:.2f}')"
   ]
  },
  {
   "cell_type": "markdown",
   "id": "9f05e821-0970-4550-9990-e1497cd6ff54",
   "metadata": {},
   "source": [
    "---\n",
    "\n",
    "## Example 2.2\n",
    "\n",
    "In this example, we plot the 95% error ellipses for each pair of parameters.   \n",
    "Note that since we are considering pairs of parameters, there are 2 degrees of freedom in the Chi-square here, rather than 3."
   ]
  },
  {
   "cell_type": "code",
   "execution_count": 13,
   "id": "fae3a516-f498-4ed1-9ab0-21ed90cc10f7",
   "metadata": {},
   "outputs": [
    {
     "data": {
      "image/png": "[encoded data removed]",
      "text/plain": [
       "<Figure size 864x432 with 3 Axes>"
      ]
     },
     "metadata": {},
     "output_type": "display_data"
    }
   ],
   "source": [
    "def helper_plot_confidence_ellipse(c, m, ax):\n",
    "    delta = np.sqrt(stats.chi2.ppf(0.95, 2))\n",
    "    \n",
    "    eigvals, eigvecs = nla.eig(nla.inv(c))\n",
    "\n",
    "    # Length of semi-axes\n",
    "    a = delta / np.sqrt(eigvals[0])\n",
    "    b = delta / np.sqrt(eigvals[1])\n",
    "\n",
    "    # Generate a vector of angles from 0 to 2*pi\n",
    "    angles = np.linspace(0, 2.0 * np.pi, 100)\n",
    "\n",
    "    # Calculate the x and y component of the ellipsoid for all angles\n",
    "    xs = (\n",
    "        m[0]\n",
    "        + a * np.cos(angles) * eigvecs[0, 0]\n",
    "        + b * np.sin(angles) * eigvecs[0, 1])\n",
    "\n",
    "    ys = (\n",
    "        m[1]\n",
    "        + a * np.cos(angles) * eigvecs[1, 0]\n",
    "        + b * np.sin(angles) * eigvecs[1, 1])\n",
    "\n",
    "    ax.plot(xs, ys)\n",
    "    ax.fill(xs, ys, 'azure', alpha=0.5)\n",
    "    ax.plot(*m, 'o')\n",
    "\n",
    "\n",
    "# ----------\n",
    "\n",
    "fig, axes = plt.subplots(1, 3, figsize=(12, 6))\n",
    "fig.tight_layout(w_pad=1.5)\n",
    "ax1, ax2, ax3 = axes\n",
    "\n",
    "# m0-m1 pair\n",
    "c = covmat[np.ix_([0, 1], [0, 1])]\n",
    "m = m_est[[0, 1]]\n",
    "helper_plot_confidence_ellipse(c, m, ax1)\n",
    "ax1.set(xlabel=r'$m_{0}$', ylabel=r'$m_{1}$', xlim=[-50, 50], ylim=[85, 110])\n",
    "\n",
    "# m0-m2 pair\n",
    "c = covmat[np.ix_([0, 2], [0, 2])]\n",
    "m = m_est[[0, 2]]\n",
    "helper_plot_confidence_ellipse(c, m, ax2)\n",
    "ax2.set(xlabel=r'$m_{0}$', ylabel=r'$m_{2}$', xlim=[-50, 50], ylim=[7, 12])\n",
    "\n",
    "# m1-m2 pair\n",
    "c = covmat[np.ix_([1, 2], [1, 2])]\n",
    "m = m_est[[1, 2]]\n",
    "helper_plot_confidence_ellipse(c, m, ax3)\n",
    "ax3.set(xlabel=r'$m_{1}$', ylabel=r'$m_{2}$', xlim=[80, 120], ylim=[7, 12]);"
   ]
  }
 ],
 "metadata": {
  "kernelspec": {
   "display_name": "Python 3 (ipykernel)",
   "language": "python",
   "name": "python3"
  },
  "language_info": {
   "codemirror_mode": {
    "name": "ipython",
    "version": 3
   },
   "file_extension": ".py",
   "mimetype": "text/x-python",
   "name": "python",
   "nbconvert_exporter": "python",
   "pygments_lexer": "ipython3",
   "version": "3.8.12"
  }
 },
 "nbformat": 4,
 "nbformat_minor": 5
}
